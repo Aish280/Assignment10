{
 "cells": [
  {
   "cell_type": "code",
   "execution_count": 2,
   "metadata": {},
   "outputs": [
    {
     "name": "stdout",
     "output_type": "stream",
     "text": [
      "[10, 22, 44, 23, 4]\n",
      "[10, 22, 44, 23, 4]\n"
     ]
    }
   ],
   "source": [
    "# 1)python program to clone or copy a list\n",
    "original_list = [10, 22, 44, 23, 4]  \n",
    "new_list = list(original_list)  \n",
    "print(original_list)  \n",
    "print(new_list)"
   ]
  },
  {
   "cell_type": "code",
   "execution_count": 3,
   "metadata": {},
   "outputs": [
    {
     "name": "stdout",
     "output_type": "stream",
     "text": [
      "['Green', 'White', 'Black']\n"
     ]
    }
   ],
   "source": [
    "# 2)python program to print specified list after removing 0th,4th,5th elements\n",
    "color = ['Red', 'Green', 'White', 'Black', 'Pink', 'Yellow']  \n",
    "color = [x for (i,x) in enumerate(color) if i not in (0,4,5)]  \n",
    "print(color)"
   ]
  },
  {
   "cell_type": "code",
   "execution_count": 4,
   "metadata": {},
   "outputs": [
    {
     "name": "stdout",
     "output_type": "stream",
     "text": [
      "[7, 25, 27]\n"
     ]
    }
   ],
   "source": [
    "# 3)python program to print no. of specified list after removing even no.s from list\n",
    "num = [7,8, 120, 25, 44, 20, 27]\n",
    "num = [x for x in num if x%2!=0]\n",
    "print(num)"
   ]
  },
  {
   "cell_type": "code",
   "execution_count": 5,
   "metadata": {},
   "outputs": [
    {
     "name": "stdout",
     "output_type": "stream",
     "text": [
      "['Pink', 'White', 'Red', 'Yellow', 'Green', 'Black']\n"
     ]
    }
   ],
   "source": [
    "# 4)python program to shuffle and print a specified list\n",
    "from random import shuffle\n",
    "color = ['Red', 'Green', 'White', 'Black', 'Pink', 'Yellow']\n",
    "shuffle(color)\n",
    "print(color)"
   ]
  },
  {
   "cell_type": "code",
   "execution_count": 7,
   "metadata": {},
   "outputs": [
    {
     "name": "stdout",
     "output_type": "stream",
     "text": [
      "[9, 3, 5, 8, 2, 4, 6]\n"
     ]
    }
   ],
   "source": [
    "# 5)python program to get the difference between two lists\n",
    "list1 = [1, 3, 5, 7, 9]\n",
    "list2=[1, 2, 4, 6, 7, 8]\n",
    "diff_list1_list2 = list(set(list1) - set(list2))\n",
    "diff_list2_list1 = list(set(list2) - set(list1))\n",
    "total_diff = diff_list1_list2 + diff_list2_list1\n",
    "print(total_diff)"
   ]
  }
 ],
 "metadata": {
  "kernelspec": {
   "display_name": "Python 3",
   "language": "python",
   "name": "python3"
  },
  "language_info": {
   "codemirror_mode": {
    "name": "ipython",
    "version": 3
   },
   "file_extension": ".py",
   "mimetype": "text/x-python",
   "name": "python",
   "nbconvert_exporter": "python",
   "pygments_lexer": "ipython3",
   "version": "3.8.3"
  }
 },
 "nbformat": 4,
 "nbformat_minor": 4
}
